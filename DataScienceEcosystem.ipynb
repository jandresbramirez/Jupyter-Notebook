{
 "cells": [
  {
   "cell_type": "markdown",
   "metadata": {},
   "source": [
    "<center>\n",
    "    <img src=\"https://cf-courses-data.s3.us.cloud-object-storage.appdomain.cloud/IBMDeveloperSkillsNetwork-DS0105EN-SkillsNetwork/labs/Module2/images/SN_web_lightmode.png\" width=\"300\" alt=\"cognitiveclass.ai logo\">\n",
    "</center>\n"
   ]
  },
  {
   "cell_type": "markdown",
   "metadata": {},
   "source": [
    "# Data Science Tools and Ecosystem\n",
    "---"
   ]
  },
  {
   "cell_type": "markdown",
   "metadata": {},
   "source": [
    "<!-- I used HTML to put different styles than what markdown allows -->\n",
    "\n",
    "## This<span style=\"color:red;\"> Jupyter Notebook </span>will summarize<span style=\"color:purple;\"> Data Science </span><span style=\"color:blue; text-decoration:underline;\"> tools</span> and <span style=\"color:blue; text-decoration:underline;\">ecosystem</span>:"
   ]
  },
  {
   "cell_type": "markdown",
   "metadata": {},
   "source": [
    "**Objectives:**\n",
    "+ List popular languages for Data Science\n",
    "- List commonly libraries used by Data Scientists\n",
    "+ Show Data Science Tools in a table\n",
    "- Evaluate arithmetic expressions in Python\n",
    "---"
   ]
  },
  {
   "cell_type": "markdown",
   "metadata": {},
   "source": [
    "***Some of the popular languages that *Data Scientists* use are:***\n",
    "\n",
    "1. <span style=\"color:blue;\">**Python**</span>  \n",
    "2. <span style=\"color:purple;\">**SQL**</span>  \n",
    "3. <span style=\"color:red;\">**R**</span>  \n",
    "4. <span style=\"color:gold;\">**Java**</span>  \n",
    "5. <span style=\"color:green;\">__Julia__</span>\n",
    "---"
   ]
  },
  {
   "cell_type": "markdown",
   "metadata": {},
   "source": [
    "***Some of the commonly used libraries used by *Data Scientists* include:***\n",
    "\n",
    "1. <span style=\"color:red;\">NumPy</span>  \n",
    "2. <span style=\"color:blue;\">Pandas</span>  \n",
    "3. <span style=\"color:green;\">TensorFlow</span>  \n",
    "4. <span style=\"color:purple;\">Scikit-learn</span>  \n",
    "5. <span style=\"color:darkblue;\">Seaborn</span>  \n",
    "---"
   ]
  },
  {
   "cell_type": "markdown",
   "metadata": {},
   "source": [
    "|Data Science Tools|\n",
    "|------------------|\n",
    "|RStudio|\n",
    "|Visual Studio Code|\n",
    "|Jupyter Notebook|\n",
    "---"
   ]
  },
  {
   "cell_type": "markdown",
   "metadata": {},
   "source": [
    "### Below are a few examples of evaluating arithmetic expressions in Python:"
   ]
  },
  {
   "cell_type": "code",
   "execution_count": 12,
   "metadata": {},
   "outputs": [
    {
     "name": "stdout",
     "output_type": "stream",
     "text": [
      "17\n"
     ]
    }
   ],
   "source": [
    "# This is a simple arithmetic expression to multiply then add integers.\n",
    "result = (3 * 4) + 5\n",
    "print(result)"
   ]
  },
  {
   "cell_type": "code",
   "execution_count": 15,
   "metadata": {},
   "outputs": [
    {
     "name": "stdout",
     "output_type": "stream",
     "text": [
      "200 minutes to hours: 3.3333333333333335\n"
     ]
    }
   ],
   "source": [
    "# This operation will convert 200 minutes to hours:\n",
    "conversion = 200/60\n",
    "print(\"200 minutes to hours: \" + str(conversion))"
   ]
  },
  {
   "cell_type": "markdown",
   "metadata": {},
   "source": [
    "## Author\n",
    "Jorge Andrés Ballen Ramírez"
   ]
  }
 ],
 "metadata": {
  "kernelspec": {
   "display_name": "Python 3 (ipykernel)",
   "language": "python",
   "name": "python3"
  },
  "language_info": {
   "codemirror_mode": {
    "name": "ipython",
    "version": 3
   },
   "file_extension": ".py",
   "mimetype": "text/x-python",
   "name": "python",
   "nbconvert_exporter": "python",
   "pygments_lexer": "ipython3",
   "version": "3.11.9"
  }
 },
 "nbformat": 4,
 "nbformat_minor": 4
}
